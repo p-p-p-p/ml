{
 "cells": [
  {
   "cell_type": "code",
   "execution_count": 1,
   "metadata": {},
   "outputs": [
    {
     "name": "stdout",
     "output_type": "stream",
     "text": [
      "              town  area   price\n",
      "0  monroe township  2600  550000\n",
      "1  monroe township  3000  565000\n",
      "2  monroe township  3200  610000\n",
      "3  monroe township  3600  680000\n",
      "4  monroe township  4000  725000\n"
     ]
    }
   ],
   "source": [
    "import pandas as pd\n",
    "from sklearn import linear_model\n",
    "import  matplotlib.pyplot as plt\n",
    "url=\"https://raw.githubusercontent.com/apratim777/apratim777/master/homeprices2.csv\"\n",
    "df=pd.read_csv(url)\n",
    "print(df.head())"
   ]
  },
  {
   "cell_type": "code",
   "execution_count": 4,
   "metadata": {},
   "outputs": [
    {
     "name": "stdout",
     "output_type": "stream",
     "text": [
      "    town  area   price\n",
      "4      1  4000  725000\n",
      "10     3  2900  600000\n",
      "9      3  2600  575000\n",
      "6      2  2800  615000\n",
      "1      1  3000  565000\n"
     ]
    }
   ],
   "source": [
    "replace_map={'town':{'monroe township':1,'west windsor':2,'robinsville':3}}\n",
    "df.replace(replace_map,inplace=True)\n",
    "df=df.sample(frac=1)\n",
    "print(df.head())"
   ]
  },
  {
   "cell_type": "code",
   "execution_count": 5,
   "metadata": {},
   "outputs": [
    {
     "name": "stdout",
     "output_type": "stream",
     "text": [
      "(13, 2)\n",
      "(13, 1)\n"
     ]
    }
   ],
   "source": [
    "x=df[['town','area']].values\n",
    "y=df[['price']].values\n",
    "print(x.shape)\n",
    "print(y.shape)"
   ]
  },
  {
   "cell_type": "code",
   "execution_count": 6,
   "metadata": {},
   "outputs": [
    {
     "name": "stdout",
     "output_type": "stream",
     "text": [
      "0.9067640212781204\n"
     ]
    }
   ],
   "source": [
    "reg=linear_model.LinearRegression()\n",
    "reg.fit(x,y)\n",
    "acc=reg.score(x,y)\n",
    "print(acc)"
   ]
  },
  {
   "cell_type": "code",
   "execution_count": 8,
   "metadata": {},
   "outputs": [
    {
     "name": "stdout",
     "output_type": "stream",
     "text": [
      "[[649345.32770332]]\n"
     ]
    }
   ],
   "source": [
    "pre=reg.predict([[2,3300]])\n",
    "print(pre)"
   ]
  }
 ],
 "metadata": {
  "kernelspec": {
   "display_name": "Python 3.8.0 64-bit",
   "language": "python",
   "name": "python3"
  },
  "language_info": {
   "codemirror_mode": {
    "name": "ipython",
    "version": 3
   },
   "file_extension": ".py",
   "mimetype": "text/x-python",
   "name": "python",
   "nbconvert_exporter": "python",
   "pygments_lexer": "ipython3",
   "version": "3.8.0"
  },
  "orig_nbformat": 4,
  "vscode": {
   "interpreter": {
    "hash": "f7401c3a6738d15d752740af9785731698b5ffd5adfb1a735c0bc94da9902075"
   }
  }
 },
 "nbformat": 4,
 "nbformat_minor": 2
}
