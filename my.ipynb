{
  "nbformat": 4,
  "nbformat_minor": 0,
  "metadata": {
    "colab": {
      "private_outputs": true,
      "provenance": []
    },
    "kernelspec": {
      "name": "python3",
      "display_name": "Python 3"
    },
    "language_info": {
      "name": "python"
    }
  },
  "cells": [
    {
      "cell_type": "markdown",
      "source": [
        "## 1. regression table creation."
      ],
      "metadata": {
        "id": "b4GXkFJDPV6-"
      }
    },
    {
      "cell_type": "code",
      "execution_count": null,
      "metadata": {
        "id": "rSuB28u0O6n8"
      },
      "outputs": [],
      "source": [
        "import pandas as pd\n",
        "url=\"https://raw.githubusercontent.com/p-p-p-p/ml/main/info3.csv\"\n",
        "df=pd.read_csv(url,header=0,sep=\",\")\n",
        "df.head()"
      ]
    },
    {
      "cell_type": "code",
      "source": [
        "import statsmodels.formula.api as smf\n",
        "model=smf.ols(\"Calorie_Burnage~Average_Pulse\",data=df).fit()\n",
        "print(\"regression table creation:\")\n",
        "print(model.summary())"
      ],
      "metadata": {
        "id": "umstlEWbPYsx"
      },
      "execution_count": null,
      "outputs": []
    },
    {
      "cell_type": "markdown",
      "source": [
        "## 2. slope calculation"
      ],
      "metadata": {
        "id": "UE6zOs9vPyVu"
      }
    },
    {
      "cell_type": "code",
      "source": [
        "import pandas as pd\n",
        "url=\"https://raw.githubusercontent.com/p-p-p-p/ml/main/info3.csv\"\n",
        "df=pd.read_csv(url,header=0,sep=\",\")\n",
        "df.head()"
      ],
      "metadata": {
        "id": "hlMXbJT5O8YQ"
      },
      "execution_count": null,
      "outputs": []
    },
    {
      "cell_type": "code",
      "source": [
        "import numpy as np\n",
        "x=df[\"Average_Pulse\"]\n",
        "y=df[\"Calorie_Burnage\"]\n",
        "slope,intercept=list(np.polyfit(x,y,1))\n",
        "print(f\"Slope : {slope}\")\n",
        "print(f\"Intercept : {intercept}\")"
      ],
      "metadata": {
        "id": "za1ppXWsP1iH"
      },
      "execution_count": null,
      "outputs": []
    },
    {
      "cell_type": "markdown",
      "source": [
        "## 3. determine the type of correlation between the two attributes .\n"
      ],
      "metadata": {
        "id": "zfa8ivGsQPvv"
      }
    },
    {
      "cell_type": "code",
      "source": [
        "import pandas as pd\n",
        "url=\"https://raw.githubusercontent.com/p-p-p-p/ml/main/info3.csv\"\n",
        "df=pd.read_csv(url,header=0,sep=\",\")\n",
        "df.head()"
      ],
      "metadata": {
        "id": "s0MOHRcKPSC2"
      },
      "execution_count": null,
      "outputs": []
    },
    {
      "cell_type": "code",
      "source": [
        "x=df[\"Average_Pulse\"]\n",
        "y=df[\"Calorie_Burnage\"]\n",
        "correlation=x.corr(y)\n",
        "print(f\"The corellation between Average_Pulse and Calorie_Burnage is {correlation}\")"
      ],
      "metadata": {
        "id": "QIOookfyQarI"
      },
      "execution_count": null,
      "outputs": []
    },
    {
      "cell_type": "markdown",
      "source": [
        "## 4.draw a Heatmap ."
      ],
      "metadata": {
        "id": "vBIl4v-vQzXe"
      }
    },
    {
      "cell_type": "code",
      "source": [
        "import pandas as pd\n",
        "url=\"https://raw.githubusercontent.com/p-p-p-p/ml/main/info3.csv\"\n",
        "df=pd.read_csv(url,header=0,sep=\",\")\n",
        "df.head()"
      ],
      "metadata": {
        "id": "JLT__kkDPR_e"
      },
      "execution_count": null,
      "outputs": []
    },
    {
      "cell_type": "code",
      "source": [
        "import matplotlib.pyplot as plt\n",
        "import seaborn as sns\n",
        "df_corr=df.corr()\n",
        "axis_corr=sns.heatmap(df_corr,vmin=-1, vmax=1, cmap=\"coolwarm\", center=0,annot=True)\n",
        "print(axis_corr)\n",
        "plt.show()"
      ],
      "metadata": {
        "id": "cCR6pjicQ29_"
      },
      "execution_count": null,
      "outputs": []
    },
    {
      "cell_type": "markdown",
      "source": [
        "## 5. a correlation matrix creation. \n"
      ],
      "metadata": {
        "id": "J1l9pMweRxZS"
      }
    },
    {
      "cell_type": "code",
      "source": [
        "import pandas as pd\n",
        "url=\"https://raw.githubusercontent.com/p-p-p-p/ml/main/info3.csv\"\n",
        "df=pd.read_csv(url,header=0,sep=\",\")\n",
        "df.head()"
      ],
      "metadata": {
        "id": "Dan2s9hMPR8x"
      },
      "execution_count": null,
      "outputs": []
    },
    {
      "cell_type": "code",
      "source": [
        "corr_matrix=df.corr()\n",
        "print(corr_matrix)"
      ],
      "metadata": {
        "id": "mYyiJQ7NRzNo"
      },
      "execution_count": null,
      "outputs": []
    },
    {
      "cell_type": "markdown",
      "source": [
        "## 6. determine the coefficient of variations all attributes of info3.csv.\n"
      ],
      "metadata": {
        "id": "dOufTV1HSGBw"
      }
    },
    {
      "cell_type": "code",
      "source": [
        "import pandas as pd\n",
        "url=\"https://raw.githubusercontent.com/p-p-p-p/ml/main/info3.csv\"\n",
        "df=pd.read_csv(url,header=0,sep=\",\")\n",
        "df.head()"
      ],
      "metadata": {
        "id": "lk6yzSY3PR5_"
      },
      "execution_count": null,
      "outputs": []
    },
    {
      "cell_type": "code",
      "source": [
        "for i in df:\n",
        "  std=df[i].std()\n",
        "  mean=df[i].mean()\n",
        "  c=(std/mean)*100\n",
        "  print(\"Coeeficient of {} is {:.2f}%\".format(i,c))"
      ],
      "metadata": {
        "id": "Hi8w0RWySKse"
      },
      "execution_count": null,
      "outputs": []
    },
    {
      "cell_type": "markdown",
      "source": [
        "## 7. calculate 10 percentile for “Average_Pulse” from the file info3.csv. \n"
      ],
      "metadata": {
        "id": "tTP3fGTZSsyf"
      }
    },
    {
      "cell_type": "code",
      "source": [
        "import pandas as pd\n",
        "url=\"https://raw.githubusercontent.com/p-p-p-p/ml/main/info3.csv\"\n",
        "df=pd.read_csv(url,header=0,sep=\",\")\n",
        "df.head()"
      ],
      "metadata": {
        "id": "5mYdhCqyPR23"
      },
      "execution_count": null,
      "outputs": []
    },
    {
      "cell_type": "code",
      "source": [
        "import numpy as np\n",
        "ten=np.percentile(df[\"Average_Pulse\"],10)\n",
        "print(ten)"
      ],
      "metadata": {
        "id": "8ISIxS_GSuti"
      },
      "execution_count": null,
      "outputs": []
    },
    {
      "cell_type": "markdown",
      "source": [
        "## 8. determine the type of correlation between the two attributes .\n",
        "Hours_Worked:- 10 9 8 7 6 5 4 3 2 <br>\n",
        "Calorie_Burnage:- 50 70 90 110 130 150 170 190 210"
      ],
      "metadata": {
        "id": "AYvQowgDS9V4"
      }
    },
    {
      "cell_type": "code",
      "source": [
        "import numpy as np\n",
        "Hours_Worked=np.array([10, 9, 8, 7, 6, 5, 4, 3, 2 ]) \n",
        "Calorie_Burnage= np.array([50 ,70, 90 ,110, 130, 150,170,190,210 ])\n",
        "pearson_corr=np.corrcoef(Hours_Worked,Calorie_Burnage)[0,1]\n",
        "print(pearson_corr)\n",
        "corelation_type=\"\"\n",
        "if (pearson_corr<0):\n",
        "  corelation_type=\"Negative correlation\"\n",
        "elif (pearson_corr>0):\n",
        "  corelation_type=\"positive correlation\"\n",
        "else:\n",
        "  corelation_type=\"no correlation\"\n",
        "print(corelation_type)  "
      ],
      "metadata": {
        "id": "UnjIWb7vTFVe"
      },
      "execution_count": null,
      "outputs": []
    },
    {
      "cell_type": "markdown",
      "source": [
        "## 9. determine the variance of “Duration” ."
      ],
      "metadata": {
        "id": "2sV2SHmmUxwA"
      }
    },
    {
      "cell_type": "code",
      "source": [
        "import pandas as pd\n",
        "url=\"https://raw.githubusercontent.com/p-p-p-p/ml/main/info3.csv\"\n",
        "df=pd.read_csv(url,header=0,sep=\",\")\n",
        "df.head()"
      ],
      "metadata": {
        "id": "HIoXxx22PRrm"
      },
      "execution_count": null,
      "outputs": []
    },
    {
      "cell_type": "code",
      "source": [
        "variance=df[\"Duration\"].var()\n",
        "print(variance)"
      ],
      "metadata": {
        "id": "qx4ozwU_U0b6"
      },
      "execution_count": null,
      "outputs": []
    }
  ]
}