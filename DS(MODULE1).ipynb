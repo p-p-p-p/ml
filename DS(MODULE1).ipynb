{
  "cells": [
    {
      "cell_type": "code",
      "execution_count": 1,
      "id": "dfc6e4c3-1933-4cee-a88d-ce282a87d62b",
      "metadata": {
        "colab": {
          "base_uri": "https://localhost:8080/"
        },
        "id": "dfc6e4c3-1933-4cee-a88d-ce282a87d62b",
        "outputId": "e4dcc6ac-0af7-45cd-8164-63331bc88f7b"
      },
      "outputs": [
        {
          "output_type": "execute_result",
          "data": {
            "text/plain": [
              "[80, 85, 90, 95, 100, 105, 110, 115, 120, 125]"
            ]
          },
          "metadata": {},
          "execution_count": 1
        }
      ],
      "source": [
        "[80, 85, 90, 95, 100, 105, 110, 115, 120, 125]"
      ]
    },
    {
      "cell_type": "code",
      "execution_count": 2,
      "id": "021351fb-9313-4064-9ab0-23271d8c7e82",
      "metadata": {
        "colab": {
          "base_uri": "https://localhost:8080/"
        },
        "id": "021351fb-9313-4064-9ab0-23271d8c7e82",
        "outputId": "ae58ee16-3410-490d-a7e9-805d8b915d50"
      },
      "outputs": [
        {
          "output_type": "stream",
          "name": "stdout",
          "text": [
            "   col1  col2  col3\n",
            "0     1     4     7\n",
            "1     2     5     8\n",
            "2     3     6    12\n",
            "3     4     9     1\n",
            "4     7     5    11\n"
          ]
        }
      ],
      "source": [
        "import pandas as pd\n",
        "\n",
        "d = {'col1': [1, 2, 3, 4, 7], 'col2': [4, 5, 6, 9, 5], 'col3': [7, 8, 12, 1, 11]}\n",
        "\n",
        "df = pd.DataFrame(data=d)\n",
        "\n",
        "print(df)"
      ]
    },
    {
      "cell_type": "code",
      "execution_count": 3,
      "id": "4c17ef81-bb6c-4027-804d-45e0e99236d0",
      "metadata": {
        "colab": {
          "base_uri": "https://localhost:8080/"
        },
        "id": "4c17ef81-bb6c-4027-804d-45e0e99236d0",
        "outputId": "1420225c-4e28-439c-ae6e-6a2902b6c5c1"
      },
      "outputs": [
        {
          "output_type": "stream",
          "name": "stdout",
          "text": [
            "3\n"
          ]
        }
      ],
      "source": [
        "count_column = df.shape[1]\n",
        "print(count_column)"
      ]
    },
    {
      "cell_type": "code",
      "execution_count": 4,
      "id": "b7f9a140-19af-46e0-98dd-ba9ee9c5d7b9",
      "metadata": {
        "colab": {
          "base_uri": "https://localhost:8080/"
        },
        "id": "b7f9a140-19af-46e0-98dd-ba9ee9c5d7b9",
        "outputId": "c52a6cf1-48d6-44ba-a14b-c15204c55d66"
      },
      "outputs": [
        {
          "output_type": "stream",
          "name": "stdout",
          "text": [
            "5\n"
          ]
        }
      ],
      "source": [
        "count_row = df.shape[0]\n",
        "print(count_row)"
      ]
    },
    {
      "cell_type": "code",
      "execution_count": 5,
      "id": "e519c591-5084-4e24-b091-4998da4f9e45",
      "metadata": {
        "colab": {
          "base_uri": "https://localhost:8080/"
        },
        "id": "e519c591-5084-4e24-b091-4998da4f9e45",
        "outputId": "39cb9c18-a860-496b-f1f7-d3911c0bd7c0"
      },
      "outputs": [
        {
          "output_type": "stream",
          "name": "stdout",
          "text": [
            "3000\n"
          ]
        }
      ],
      "source": [
        "maximum=max(25, 1, 100, 3000,23,200,150)\n",
        "print(maximum)"
      ]
    },
    {
      "cell_type": "code",
      "execution_count": 6,
      "id": "71ff556a-2a1b-444c-98a0-da6673678519",
      "metadata": {
        "colab": {
          "base_uri": "https://localhost:8080/"
        },
        "id": "71ff556a-2a1b-444c-98a0-da6673678519",
        "outputId": "2bc2dc4c-747f-403f-8196-bce7598a2cb1"
      },
      "outputs": [
        {
          "output_type": "stream",
          "name": "stdout",
          "text": [
            "1\n"
          ]
        }
      ],
      "source": [
        "minimum = min(25, 1, 100, 30)\n",
        "print(minimum)"
      ]
    },
    {
      "cell_type": "code",
      "execution_count": 7,
      "id": "d5c1e5b8-9eeb-44de-8ad6-27fd8cf375fb",
      "metadata": {
        "colab": {
          "base_uri": "https://localhost:8080/"
        },
        "id": "d5c1e5b8-9eeb-44de-8ad6-27fd8cf375fb",
        "outputId": "eefa33ab-211a-4ac9-d58b-532f39f55d36"
      },
      "outputs": [
        {
          "output_type": "stream",
          "name": "stdout",
          "text": [
            "285.0\n"
          ]
        }
      ],
      "source": [
        "import numpy as np\n",
        "\n",
        "array = [240, 250, 260, 270, 280, 290, 300, 310, 320, 330]\n",
        "\n",
        "avg = np.mean(array)\n",
        "\n",
        "print(avg)\n"
      ]
    },
    {
      "cell_type": "code",
      "execution_count": 9,
      "id": "d7dd2757-0a8a-493d-b67d-1edb4ad34102",
      "metadata": {
        "colab": {
          "base_uri": "https://localhost:8080/"
        },
        "id": "d7dd2757-0a8a-493d-b67d-1edb4ad34102",
        "outputId": "5462b77f-fdd5-469a-b089-01f435db95c6"
      },
      "outputs": [
        {
          "output_type": "stream",
          "name": "stdout",
          "text": [
            "    Duration Average_Pulse Max_Pulse  Calorie_Burnage  Hours_Work  Hours_Sleep\n",
            "0       30.0            80       120            240.0        10.0          7.0\n",
            "1       45.0            85       120            250.0        10.0          7.0\n",
            "2       45.0            90       130            260.0         8.0          7.0\n",
            "3       60.0            95       130            270.0         8.0          7.0\n",
            "4       60.0           100       140            280.0         0.0          7.0\n",
            "5        NaN           NaN       NaN              NaN         NaN          NaN\n",
            "6       60.0           105       140            290.0         7.0          8.0\n",
            "7       60.0           110       145            300.0         7.0          8.0\n",
            "8       45.0           NaN        AF              NaN         8.0          8.0\n",
            "9       45.0           115       145            310.0         8.0          8.0\n",
            "10      60.0           120       150            320.0         0.0          8.0\n",
            "11      60.0         9 000       130              NaN         NaN          8.0\n",
            "12      45.0           125       150            330.0         8.0          8.0\n"
          ]
        }
      ],
      "source": [
        "import pandas as pd\n",
        "url=\"https://raw.githubusercontent.com/p-p-p-p/ml/main/info.csv\"\n",
        "health_info = pd.read_csv(url, header=0, sep=\",\")\n",
        "\n",
        "print(health_info)\n"
      ]
    },
    {
      "cell_type": "markdown",
      "id": "e00bfe2e-6da0-46d2-9295-fd3928f34274",
      "metadata": {
        "id": "e00bfe2e-6da0-46d2-9295-fd3928f34274"
      },
      "source": [
        "#"
      ]
    },
    {
      "cell_type": "code",
      "execution_count": 10,
      "id": "72829969-de97-4d3f-bfad-69882501c319",
      "metadata": {
        "colab": {
          "base_uri": "https://localhost:8080/"
        },
        "id": "72829969-de97-4d3f-bfad-69882501c319",
        "outputId": "87640d75-002f-41ab-9c2c-bd5fe3fb7387"
      },
      "outputs": [
        {
          "output_type": "stream",
          "name": "stdout",
          "text": [
            "   Duration Average_Pulse Max_Pulse  Calorie_Burnage  Hours_Work  Hours_Sleep\n",
            "0      30.0            80       120            240.0        10.0          7.0\n",
            "1      45.0            85       120            250.0        10.0          7.0\n",
            "2      45.0            90       130            260.0         8.0          7.0\n",
            "3      60.0            95       130            270.0         8.0          7.0\n",
            "4      60.0           100       140            280.0         0.0          7.0\n"
          ]
        }
      ],
      "source": [
        "import pandas as pd\n",
        "\n",
        "health_info = pd.read_csv(url, header=0, sep=\",\")\n",
        "\n",
        "print(health_info.head())"
      ]
    },
    {
      "cell_type": "code",
      "execution_count": 11,
      "id": "ad58d0a6-7d53-455e-ace9-b40023549e3f",
      "metadata": {
        "colab": {
          "base_uri": "https://localhost:8080/"
        },
        "id": "ad58d0a6-7d53-455e-ace9-b40023549e3f",
        "outputId": "e1c6fe9f-ab99-4bf9-c7ae-5479ed63c71f"
      },
      "outputs": [
        {
          "output_type": "stream",
          "name": "stdout",
          "text": [
            "   Duration Average_Pulse Max_Pulse  Calorie_Burnage  Hours_Work  Hours_Sleep\n",
            "0      30.0            80       120            240.0        10.0          7.0\n",
            "1      45.0            85       120            250.0        10.0          7.0\n",
            "2      45.0            90       130            260.0         8.0          7.0\n"
          ]
        }
      ],
      "source": [
        "import pandas as pd\n",
        "\n",
        "health_info = pd.read_csv(url, header=0, sep=\",\")\n",
        "\n",
        "print(health_info.head(3))"
      ]
    },
    {
      "cell_type": "code",
      "execution_count": 12,
      "id": "8de78d88-3177-429b-8144-45de1782e901",
      "metadata": {
        "colab": {
          "base_uri": "https://localhost:8080/"
        },
        "id": "8de78d88-3177-429b-8144-45de1782e901",
        "outputId": "e8c1718d-14e3-4b86-ea3b-26e1073c3470"
      },
      "outputs": [
        {
          "output_type": "stream",
          "name": "stdout",
          "text": [
            "    Duration Average_Pulse Max_Pulse  Calorie_Burnage  Hours_Work  Hours_Sleep\n",
            "0       30.0            80       120            240.0        10.0          7.0\n",
            "1       45.0            85       120            250.0        10.0          7.0\n",
            "2       45.0            90       130            260.0         8.0          7.0\n",
            "3       60.0            95       130            270.0         8.0          7.0\n",
            "4       60.0           100       140            280.0         0.0          7.0\n",
            "5        NaN           NaN       NaN              NaN         NaN          NaN\n",
            "6       60.0           105       140            290.0         7.0          8.0\n",
            "7       60.0           110       145            300.0         7.0          8.0\n",
            "8       45.0           NaN        AF              NaN         8.0          8.0\n",
            "9       45.0           115       145            310.0         8.0          8.0\n",
            "10      60.0           120       150            320.0         0.0          8.0\n"
          ]
        }
      ],
      "source": [
        "import pandas as pd\n",
        "\n",
        "health_info = pd.read_csv(url, header=0, sep=\",\")\n",
        "\n",
        "print(health_info.head(-2))\n"
      ]
    },
    {
      "cell_type": "code",
      "execution_count": 13,
      "id": "5b1d682f-a8dd-4131-b7af-c349237323b9",
      "metadata": {
        "colab": {
          "base_uri": "https://localhost:8080/"
        },
        "id": "5b1d682f-a8dd-4131-b7af-c349237323b9",
        "outputId": "bee85b98-e8be-4e36-d170-8d22ccd1ae28"
      },
      "outputs": [
        {
          "output_type": "stream",
          "name": "stdout",
          "text": [
            "    Duration Average_Pulse Max_Pulse  Calorie_Burnage  Hours_Work  Hours_Sleep\n",
            "0       30.0            80       120            240.0        10.0          7.0\n",
            "1       45.0            85       120            250.0        10.0          7.0\n",
            "2       45.0            90       130            260.0         8.0          7.0\n",
            "3       60.0            95       130            270.0         8.0          7.0\n",
            "4       60.0           100       140            280.0         0.0          7.0\n",
            "6       60.0           105       140            290.0         7.0          8.0\n",
            "7       60.0           110       145            300.0         7.0          8.0\n",
            "9       45.0           115       145            310.0         8.0          8.0\n",
            "10      60.0           120       150            320.0         0.0          8.0\n",
            "12      45.0           125       150            330.0         8.0          8.0\n"
          ]
        }
      ],
      "source": [
        "health_info.dropna(axis=0,inplace=True)\n",
        "\n",
        "print(health_info)"
      ]
    },
    {
      "cell_type": "code",
      "execution_count": 14,
      "id": "42d89ea8-11e2-4f75-a89f-79507f95e076",
      "metadata": {
        "colab": {
          "base_uri": "https://localhost:8080/"
        },
        "id": "42d89ea8-11e2-4f75-a89f-79507f95e076",
        "outputId": "9e7cf91c-9b27-44bc-9298-f24bc0e99efc"
      },
      "outputs": [
        {
          "output_type": "stream",
          "name": "stdout",
          "text": [
            "    Duration Average_Pulse Max_Pulse  Calorie_Burnage  Hours_Work  Hours_Sleep\n",
            "0       30.0            80       120            240.0        10.0          7.0\n",
            "1       45.0            85       120            250.0        10.0          7.0\n",
            "2       45.0            90       130            260.0         8.0          7.0\n",
            "3       60.0            95       130            270.0         8.0          7.0\n",
            "4       60.0           100       140            280.0         0.0          7.0\n",
            "6       60.0           105       140            290.0         7.0          8.0\n",
            "7       60.0           110       145            300.0         7.0          8.0\n",
            "9       45.0           115       145            310.0         8.0          8.0\n",
            "10      60.0           120       150            320.0         0.0          8.0\n",
            "12      45.0           125       150            330.0         8.0          8.0\n"
          ]
        }
      ],
      "source": [
        "health_info.dropna(axis=1,inplace=False)\n",
        "\n",
        "print(health_info)"
      ]
    },
    {
      "cell_type": "code",
      "execution_count": 15,
      "id": "f6059610-99cd-41dc-aae7-16d267bfeb11",
      "metadata": {
        "colab": {
          "base_uri": "https://localhost:8080/"
        },
        "id": "f6059610-99cd-41dc-aae7-16d267bfeb11",
        "outputId": "655a14f2-e385-49fd-aeef-0daaf2943ef4"
      },
      "outputs": [
        {
          "output_type": "stream",
          "name": "stdout",
          "text": [
            "<class 'pandas.core.frame.DataFrame'>\n",
            "Int64Index: 10 entries, 0 to 12\n",
            "Data columns (total 6 columns):\n",
            " #   Column           Non-Null Count  Dtype  \n",
            "---  ------           --------------  -----  \n",
            " 0   Duration         10 non-null     float64\n",
            " 1   Average_Pulse    10 non-null     object \n",
            " 2   Max_Pulse        10 non-null     object \n",
            " 3   Calorie_Burnage  10 non-null     float64\n",
            " 4   Hours_Work       10 non-null     float64\n",
            " 5   Hours_Sleep      10 non-null     float64\n",
            "dtypes: float64(4), object(2)\n",
            "memory usage: 560.0+ bytes\n",
            "None\n"
          ]
        }
      ],
      "source": [
        "print(health_info.info())"
      ]
    },
    {
      "cell_type": "code",
      "execution_count": 16,
      "id": "1984d3ad-2f12-4c6b-9050-e707298e5585",
      "metadata": {
        "colab": {
          "base_uri": "https://localhost:8080/"
        },
        "id": "1984d3ad-2f12-4c6b-9050-e707298e5585",
        "outputId": "3080eea5-e39d-41af-cf3f-9868eb4dcedd"
      },
      "outputs": [
        {
          "output_type": "stream",
          "name": "stdout",
          "text": [
            "<class 'pandas.core.frame.DataFrame'>\n",
            "Int64Index: 10 entries, 0 to 12\n",
            "Data columns (total 6 columns):\n",
            " #   Column           Non-Null Count  Dtype  \n",
            "---  ------           --------------  -----  \n",
            " 0   Duration         10 non-null     float64\n",
            " 1   Average_Pulse    10 non-null     float64\n",
            " 2   Max_Pulse        10 non-null     float64\n",
            " 3   Calorie_Burnage  10 non-null     float64\n",
            " 4   Hours_Work       10 non-null     float64\n",
            " 5   Hours_Sleep      10 non-null     float64\n",
            "dtypes: float64(6)\n",
            "memory usage: 560.0 bytes\n",
            "None\n"
          ]
        }
      ],
      "source": [
        "health_info[\"Average_Pulse\"] = health_info['Average_Pulse'].astype(float)\n",
        "health_info[\"Max_Pulse\"] = health_info[\"Max_Pulse\"].astype(float)\n",
        "\n",
        "print (health_info.info())"
      ]
    },
    {
      "cell_type": "code",
      "execution_count": 17,
      "id": "fa26c618-73fe-445a-aadf-dd6fb56e04c4",
      "metadata": {
        "colab": {
          "base_uri": "https://localhost:8080/"
        },
        "id": "fa26c618-73fe-445a-aadf-dd6fb56e04c4",
        "outputId": "adc4ecc6-da0c-4d00-b966-3505c7ed59b5"
      },
      "outputs": [
        {
          "output_type": "stream",
          "name": "stdout",
          "text": [
            "    Duration  Average_Pulse  Max_Pulse  Calorie_Burnage  Hours_Work  \\\n",
            "0       30.0           80.0      120.0            240.0        10.0   \n",
            "1       45.0           85.0      120.0            250.0        10.0   \n",
            "2       45.0           90.0      130.0            260.0         8.0   \n",
            "3       60.0           95.0      130.0            270.0         8.0   \n",
            "4       60.0          100.0      140.0            280.0         0.0   \n",
            "6       60.0          105.0      140.0            290.0         7.0   \n",
            "7       60.0          110.0      145.0            300.0         7.0   \n",
            "9       45.0          115.0      145.0            310.0         8.0   \n",
            "10      60.0          120.0      150.0            320.0         0.0   \n",
            "12      45.0          125.0      150.0            330.0         8.0   \n",
            "\n",
            "    Hours_Sleep  \n",
            "0           7.0  \n",
            "1           7.0  \n",
            "2           7.0  \n",
            "3           7.0  \n",
            "4           7.0  \n",
            "6           8.0  \n",
            "7           8.0  \n",
            "9           8.0  \n",
            "10          8.0  \n",
            "12          8.0  \n"
          ]
        }
      ],
      "source": [
        "health_info.dropna(axis=0,inplace=True)\n",
        "\n",
        "print(health_info)"
      ]
    },
    {
      "cell_type": "code",
      "execution_count": 18,
      "id": "09f568eb-cd60-4cbe-a703-f1493a6dd382",
      "metadata": {
        "colab": {
          "base_uri": "https://localhost:8080/"
        },
        "id": "09f568eb-cd60-4cbe-a703-f1493a6dd382",
        "outputId": "b502772d-8a4b-4835-b277-5c30e45fa676"
      },
      "outputs": [
        {
          "output_type": "stream",
          "name": "stdout",
          "text": [
            "        Duration  Average_Pulse   Max_Pulse  Calorie_Burnage  Hours_Work  \\\n",
            "count  10.000000      10.000000   10.000000        10.000000   10.000000   \n",
            "mean   51.000000     102.500000  137.000000       285.000000    6.600000   \n",
            "std    10.488088      15.138252   11.352924        30.276504    3.627059   \n",
            "min    30.000000      80.000000  120.000000       240.000000    0.000000   \n",
            "25%    45.000000      91.250000  130.000000       262.500000    7.000000   \n",
            "50%    52.500000     102.500000  140.000000       285.000000    8.000000   \n",
            "75%    60.000000     113.750000  145.000000       307.500000    8.000000   \n",
            "max    60.000000     125.000000  150.000000       330.000000   10.000000   \n",
            "\n",
            "       Hours_Sleep  \n",
            "count    10.000000  \n",
            "mean      7.500000  \n",
            "std       0.527046  \n",
            "min       7.000000  \n",
            "25%       7.000000  \n",
            "50%       7.500000  \n",
            "75%       8.000000  \n",
            "max       8.000000  \n"
          ]
        }
      ],
      "source": [
        "print(health_info.describe())"
      ]
    }
  ],
  "metadata": {
    "kernelspec": {
      "display_name": "Python 3 (ipykernel)",
      "language": "python",
      "name": "python3"
    },
    "language_info": {
      "codemirror_mode": {
        "name": "ipython",
        "version": 3
      },
      "file_extension": ".py",
      "mimetype": "text/x-python",
      "name": "python",
      "nbconvert_exporter": "python",
      "pygments_lexer": "ipython3",
      "version": "3.8.6"
    },
    "colab": {
      "provenance": []
    }
  },
  "nbformat": 4,
  "nbformat_minor": 5
}