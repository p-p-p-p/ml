{
  "nbformat": 4,
  "nbformat_minor": 0,
  "metadata": {
    "colab": {
      "provenance": []
    },
    "kernelspec": {
      "name": "python3",
      "display_name": "Python 3"
    },
    "language_info": {
      "name": "python"
    }
  },
  "cells": [
    {
      "cell_type": "markdown",
      "source": [
        "# 1. regression table creation"
      ],
      "metadata": {
        "id": "Q3VyfCl4lHzw"
      }
    },
    {
      "cell_type": "code",
      "source": [
        "import pandas as pd\n",
        "import statsmodels.formula.api as smf\n",
        "url = \"https://raw.githubusercontent.com/p-p-p-p/ml/main/info3.csv\"\n",
        "df=pd.read_csv(url)\n",
        "df=df.dropna()\n",
        "df.head()\n",
        "model = smf.ols('Calorie_Burnage ~ Average_Pulse', data = df).fit()\n",
        "print(model.summary())"
      ],
      "metadata": {
        "colab": {
          "base_uri": "https://localhost:8080/"
        },
        "id": "5ZoMkBomFJnY",
        "outputId": "1e84717e-57a6-4ca2-bf75-fc069e1ee6c8"
      },
      "execution_count": 41,
      "outputs": [
        {
          "output_type": "stream",
          "name": "stdout",
          "text": [
            "                            OLS Regression Results                            \n",
            "==============================================================================\n",
            "Dep. Variable:        Calorie_Burnage   R-squared:                       0.000\n",
            "Model:                            OLS   Adj. R-squared:                 -0.006\n",
            "Method:                 Least Squares   F-statistic:                   0.04975\n",
            "Date:                Sat, 27 May 2023   Prob (F-statistic):              0.824\n",
            "Time:                        08:14:16   Log-Likelihood:                -1145.8\n",
            "No. Observations:                 163   AIC:                             2296.\n",
            "Df Residuals:                     161   BIC:                             2302.\n",
            "Df Model:                           1                                         \n",
            "Covariance Type:            nonrobust                                         \n",
            "=================================================================================\n",
            "                    coef    std err          t      P>|t|      [0.025      0.975]\n",
            "---------------------------------------------------------------------------------\n",
            "Intercept       346.8662    160.615      2.160      0.032      29.682     664.050\n",
            "Average_Pulse     0.3296      1.478      0.223      0.824      -2.588       3.247\n",
            "==============================================================================\n",
            "Omnibus:                      124.542   Durbin-Watson:                   1.620\n",
            "Prob(Omnibus):                  0.000   Jarque-Bera (JB):              938.541\n",
            "Skew:                           2.927   Prob(JB):                    1.58e-204\n",
            "Kurtosis:                      13.195   Cond. No.                         811.\n",
            "==============================================================================\n",
            "\n",
            "Notes:\n",
            "[1] Standard Errors assume that the covariance matrix of the errors is correctly specified.\n"
          ]
        }
      ]
    },
    {
      "cell_type": "markdown",
      "source": [
        "# 2. slope calculation .\n"
      ],
      "metadata": {
        "id": "_S0bnQgblbHA"
      }
    },
    {
      "cell_type": "code",
      "source": [
        "import pandas as pd\n",
        "import scipy.stats as st\n",
        "url=\"https://raw.githubusercontent.com/p-p-p-p/ml/main/info3.csv\"\n",
        "df = pd.read_csv(url)\n",
        "df=df.dropna()\n",
        "df.head()\n",
        "x = df[\"Average_Pulse\"]\n",
        "y = df [\"Calorie_Burnage\"]\n",
        "slope,intercept,_,_,_=st.linregress(x,y)\n",
        "print(f\"slope: {slope}\")\n",
        "print(f\"intercept: {intercept}\")"
      ],
      "metadata": {
        "colab": {
          "base_uri": "https://localhost:8080/"
        },
        "id": "qoC38CqWPHcn",
        "outputId": "36ca8fc3-2851-4e79-d137-9652fcb4f8b1"
      },
      "execution_count": 42,
      "outputs": [
        {
          "output_type": "stream",
          "name": "stdout",
          "text": [
            "slope: 0.3295634736556583\n",
            "intercept: 346.8662267857687\n"
          ]
        }
      ]
    },
    {
      "cell_type": "markdown",
      "source": [
        "# 3. determine the type of correlation between the two attributes ."
      ],
      "metadata": {
        "id": "vnNRTgZclxjn"
      }
    },
    {
      "cell_type": "code",
      "source": [
        "import pandas as pd\n",
        "url=\"https://raw.githubusercontent.com/p-p-p-p/ml/main/info3.csv\"\n",
        "df = pd.read_csv(url, header=0, sep=\",\")\n",
        "df=df.dropna()\n",
        "x = df[\"Average_Pulse\"]\n",
        "y = df[\"Calorie_Burnage\"]\n",
        "pearson_corr=x.corr(y)\n",
        "print(\"Pearson Correlation Coefficient:\", pearson_corr)"
      ],
      "metadata": {
        "colab": {
          "base_uri": "https://localhost:8080/"
        },
        "id": "oi-1rq50Rlg3",
        "outputId": "ac0fba2c-45cb-4a5d-8f11-5053964f8a1b"
      },
      "execution_count": 46,
      "outputs": [
        {
          "output_type": "stream",
          "name": "stdout",
          "text": [
            "Pearson Correlation Coefficient: 0.017576257945091\n"
          ]
        }
      ]
    },
    {
      "cell_type": "markdown",
      "source": [
        "# 4. draw a Heatmap ."
      ],
      "metadata": {
        "id": "X5ebLAummlcA"
      }
    },
    {
      "cell_type": "code",
      "source": [
        "import matplotlib.pyplot as plt\n",
        "import seaborn as sns \n",
        "import pandas as pd\n",
        "url=\"https://raw.githubusercontent.com/p-p-p-p/ml/main/info3.csv\"\n",
        "df= pd.read_csv(url)\n",
        "df=df.dropna()\n",
        "df=df.corr()\n",
        "axis_corr=sns.heatmap(df,vmin=-1, vmax=1,cmap=sns.diverging_palette(10,300,n=500),center=0,square=True)\n",
        "print(axis_corr)\n",
        "plt.show()"
      ],
      "metadata": {
        "colab": {
          "base_uri": "https://localhost:8080/",
          "height": 553
        },
        "id": "i7ZNggi5R61F",
        "outputId": "a91e7b26-1645-4bde-8a78-f0304871fca2"
      },
      "execution_count": 69,
      "outputs": [
        {
          "output_type": "stream",
          "name": "stdout",
          "text": [
            "Axes(0.1675,0.11;0.5775x0.77)\n"
          ]
        },
        {
          "output_type": "display_data",
          "data": {
            "text/plain": [
              "<Figure size 640x480 with 2 Axes>"
            ],
            "image/png": "[encoded data removed]"
          },
          "metadata": {}
        }
      ]
    },
    {
      "cell_type": "markdown",
      "source": [
        "# 5. a correlation matrix creation. \n"
      ],
      "metadata": {
        "id": "_Do5dLrnmyt_"
      }
    },
    {
      "cell_type": "code",
      "source": [
        "import pandas as pd\n",
        "url=\"https://raw.githubusercontent.com/p-p-p-p/ml/main/info3.csv\"\n",
        "df= pd.read_csv(url, header=0, sep=\",\")\n",
        "df=df.dropna()\n",
        "correlation_matrix = df.corr()\n",
        "\n",
        "# Print the correlation matrix\n",
        "print(\"Correlation Matrix:\")\n",
        "print(correlation_matrix)\n"
      ],
      "metadata": {
        "colab": {
          "base_uri": "https://localhost:8080/"
        },
        "id": "LLiOcriGmzAf",
        "outputId": "96d70c1d-a71c-42ed-d1bb-dd929386f2af"
      },
      "execution_count": 71,
      "outputs": [
        {
          "output_type": "stream",
          "name": "stdout",
          "text": [
            "Correlation Matrix:\n",
            "                 Duration  Average_Pulse  Max_Pulse  Calorie_Burnage  \\\n",
            "Duration         1.000000      -0.165347   0.000895         0.888055   \n",
            "Average_Pulse   -0.165347       1.000000   0.785566         0.017576   \n",
            "Max_Pulse        0.000895       0.785566   1.000000         0.195850   \n",
            "Calorie_Burnage  0.888055       0.017576   0.195850         1.000000   \n",
            "Hours_Work      -0.115027      -0.275493  -0.266639        -0.139936   \n",
            "Hours_Sleep      0.074435       0.034102   0.094540         0.081917   \n",
            "\n",
            "                 Hours_Work  Hours_Sleep  \n",
            "Duration          -0.115027     0.074435  \n",
            "Average_Pulse     -0.275493     0.034102  \n",
            "Max_Pulse         -0.266639     0.094540  \n",
            "Calorie_Burnage   -0.139936     0.081917  \n",
            "Hours_Work         1.000000    -0.144307  \n",
            "Hours_Sleep       -0.144307     1.000000  \n"
          ]
        }
      ]
    },
    {
      "cell_type": "markdown",
      "source": [
        "# 6. determine the coefficient of variations all attributes of info3.csv.\n"
      ],
      "metadata": {
        "id": "ODyQtw2xnBep"
      }
    },
    {
      "cell_type": "code",
      "source": [
        "import pandas as pd\n",
        "url=\"https://raw.githubusercontent.com/p-p-p-p/ml/main/info3.csv\"\n",
        "df= pd.read_csv(url)\n",
        "df=df.dropna()\n",
        "print(\"Coefficient of variations are:\")\n",
        "for column in df.columns:\n",
        "  std=df[column].std()\n",
        "  mean=df[column].mean()\n",
        "  coefficient=(std/mean)*100\n",
        "  # print(f\"{column}: {coefficient}\")\n",
        "  print(column + \": {:.2f}%\".format(coefficient))\n"
      ],
      "metadata": {
        "colab": {
          "base_uri": "https://localhost:8080/"
        },
        "id": "IZ7HoLGEUI4v",
        "outputId": "9584fc81-fd12-4c8a-a9ad-101d0935fb23"
      },
      "execution_count": 82,
      "outputs": [
        {
          "output_type": "stream",
          "name": "stdout",
          "text": [
            "Coefficient of variations are:\n",
            "Duration: 66.90%\n",
            "Average_Pulse: 13.58%\n",
            "Max_Pulse: 12.22%\n",
            "Calorie_Burnage: 71.72%\n",
            "Hours_Work: 89.45%\n",
            "Hours_Sleep: 8.64%\n"
          ]
        }
      ]
    },
    {
      "cell_type": "markdown",
      "source": [
        "# 7. calculate 10 percentile for “Average_Pulse” from the file info3.csv. \n"
      ],
      "metadata": {
        "id": "cz9sVemynVUw"
      }
    },
    {
      "cell_type": "code",
      "source": [
        "import pandas as pd\n",
        "import numpy as np\n",
        "url=\"https://raw.githubusercontent.com/p-p-p-p/ml/main/info3.csv\"\n",
        "df= pd.read_csv(url, header=0, sep=\",\")\n",
        "df=df.dropna()\n",
        "percentile_10=np.percentile(df[\"Average_Pulse\"], 10)\n",
        "print(\"10th Percentile for Average_Pulse:\", percentile_10)"
      ],
      "metadata": {
        "colab": {
          "base_uri": "https://localhost:8080/"
        },
        "id": "AyGmcjSHV2X_",
        "outputId": "df33ea18-4cab-459b-a554-f7f51ba60b7b"
      },
      "execution_count": 84,
      "outputs": [
        {
          "output_type": "stream",
          "name": "stdout",
          "text": [
            "10th Percentile for Average_Pulse: 92.2\n"
          ]
        }
      ]
    },
    {
      "cell_type": "markdown",
      "source": [
        "# determine the type of correlation between the two attributes .\n",
        "# Hours_Worked:- 10 9 8 7 6 5 4 3 2\n",
        "# Calorie_Burnage:- 50 70 90 110 130 150 170 190 210"
      ],
      "metadata": {
        "id": "3PzxweWTndev"
      }
    },
    {
      "cell_type": "code",
      "source": [
        "import numpy as np\n",
        "\n",
        "hours_worked = np.array([10, 9, 8, 7, 6, 5, 4, 3, 2])\n",
        "calorie_burnage = np.array([50, 70, 90, 110, 130, 150, 170, 190, 210])\n",
        "\n",
        "# Calculate the Pearson correlation coefficient\n",
        "pearson_corr = np.corrcoef(hours_worked, calorie_burnage)[0, 1]\n",
        "\n",
        "# Determine the type of correlation\n",
        "if pearson_corr > 0:\n",
        "    correlation_type = \"Positive correlation\"\n",
        "elif pearson_corr < 0:\n",
        "    correlation_type = \"Negative correlation\"\n",
        "else:\n",
        "    correlation_type = \"No correlation\"\n",
        "\n",
        "# Print the correlation coefficient and type\n",
        "print(\"Pearson Correlation Coefficient:\", pearson_corr)\n",
        "print(\"Correlation Type:\", correlation_type)\n"
      ],
      "metadata": {
        "colab": {
          "base_uri": "https://localhost:8080/"
        },
        "id": "S66Cxnfrnjyn",
        "outputId": "6ec826ac-27fd-40c1-a606-a71d9bfee008"
      },
      "execution_count": 89,
      "outputs": [
        {
          "output_type": "stream",
          "name": "stdout",
          "text": [
            "Pearson Correlation Coefficient: -1.0\n",
            "Correlation Type: Negative correlation\n"
          ]
        }
      ]
    },
    {
      "cell_type": "markdown",
      "source": [
        "## determine the variance of “Duration”"
      ],
      "metadata": {
        "id": "ocX4xki6n-83"
      }
    },
    {
      "cell_type": "code",
      "source": [
        "import pandas as pd\n",
        "url=\"https://raw.githubusercontent.com/p-p-p-p/ml/main/info3.csv\"\n",
        "df= pd.read_csv(url, header=0, sep=\",\")\n",
        "df=df.dropna()\n",
        "duration_variance = df[\"Duration\"].var()\n",
        "print(\"Variance of Duration:\", duration_variance)\n"
      ],
      "metadata": {
        "colab": {
          "base_uri": "https://localhost:8080/"
        },
        "id": "0yNJUErGnxLQ",
        "outputId": "96e4b650-46af-452a-a1a1-e949df4430eb"
      },
      "execution_count": 93,
      "outputs": [
        {
          "output_type": "stream",
          "name": "stdout",
          "text": [
            "Variance of Duration: 1848.5287434673935\n"
          ]
        }
      ]
    }
  ]
}